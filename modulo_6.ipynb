{
 "cells": [
  {
   "cell_type": "code",
   "execution_count": 74,
   "metadata": {},
   "outputs": [],
   "source": [
    "# Importamos todo lo que vamos a utilizar\n",
    "from sklearn.feature_extraction.text import CountVectorizer, TfidfVectorizer\n",
    "from scipy.spatial.distance import euclidean, cosine\n",
    "import pandas as pd\n",
    "import numpy as np"
   ]
  },
  {
   "cell_type": "markdown",
   "metadata": {},
   "source": [
    "Para la realización de este último módulo, compararemos la distancia Euclidea, la distancia coseno y la distancia Jaccard para conocer cual es la más acertada. Una distancia es un valor numérico y los tipos de distancia previamente nombrados requieren de vectores para su cálculo. Es por ello que debemos representar cada uno de los textos como un vector. "
   ]
  },
  {
   "cell_type": "code",
   "execution_count": 95,
   "metadata": {},
   "outputs": [],
   "source": [
    "# Cargamos el dataset para utilizar un par de ejemplos\n",
    "df = pd.read_csv('reddit_database_sentiment.csv', delimiter=';', low_memory=False)\n",
    "\n",
    "# Seleccionar textos para comprobar\n",
    "text1 = df['post'][0]\n",
    "text2 = df['post'][2]\n",
    "text3 = df['post'][12]"
   ]
  },
  {
   "cell_type": "code",
   "execution_count": 96,
   "metadata": {},
   "outputs": [
    {
     "name": "stdout",
     "output_type": "stream",
     "text": [
      "There's a lot of reasons to want to know all this stuff, so I figured I'd get to know the others that are on this subreddit.\n",
      "\n",
      "So let's hear it: Webmasters? Coders? Marketers? Work for an analytics software company? You get the idea.\n",
      "DotCed,a Functional Analytics Consultant, offering Google Analytics Tagging, Reporting, Analysis, Strategy, SEO Auditing, and SEM Optimization. Call 919-404-9233 for a 15 min consultation.\n",
      "anyone else have issues with the \"include subdirectories\" option in profile filters?  For some reason the results were way off for me; my solution was to use custom URI filters to get data accurately, but curious if anyone can explain this discrepancy and/or how i'm mis-interpreting the Include Subdirectories option!!\n"
     ]
    }
   ],
   "source": [
    "# Visualización\n",
    "print(text1)\n",
    "print(text2)\n",
    "print(text3)"
   ]
  },
  {
   "cell_type": "markdown",
   "metadata": {},
   "source": [
    "Una técnica para la conversión de texto a vector es Bag of Word. Utilizamos la clase CountVectorizer de la librería Scikit-learn."
   ]
  },
  {
   "cell_type": "code",
   "execution_count": 77,
   "metadata": {},
   "outputs": [],
   "source": [
    "vectorizador = CountVectorizer() # Creamos una instancia del vectorizador\n",
    "vector1, vector2 = vectorizador.fit_transform([text1, text2])"
   ]
  },
  {
   "cell_type": "code",
   "execution_count": 78,
   "metadata": {},
   "outputs": [],
   "source": [
    "# Conversión de los vectores a matrices Numpy (necesario para la implementación de la función que calcula la distancia)\n",
    "array1 = vector1.toarray().ravel()\n",
    "array2 = vector2.toarray().ravel()"
   ]
  },
  {
   "cell_type": "markdown",
   "metadata": {},
   "source": [
    "Otra técnica es TF-IDF implementada en la clase TfidfVectorizer de Scikit-learn también."
   ]
  },
  {
   "cell_type": "code",
   "execution_count": 80,
   "metadata": {},
   "outputs": [],
   "source": [
    "tfidf_vectorizer = TfidfVectorizer() # Creamos una instancia del vectorizador\n",
    "v1, v2 = tfidf_vectorizer.fit_transform([text1, text2])"
   ]
  },
  {
   "cell_type": "code",
   "execution_count": 81,
   "metadata": {},
   "outputs": [],
   "source": [
    "# Conversión de los vectores a matrices Numpy (necesario para la implementación de la función que calcula la distancia)\n",
    "a1 = v1.toarray().ravel()\n",
    "a2 = v2.toarray().ravel()"
   ]
  },
  {
   "cell_type": "markdown",
   "metadata": {},
   "source": [
    "Ahora implementaremos las distintas distancias"
   ]
  },
  {
   "cell_type": "code",
   "execution_count": 84,
   "metadata": {},
   "outputs": [],
   "source": [
    "# Para la primera técnica\n",
    "distancia_euclidea_vectorizer = euclidean(array1, array2)\n",
    "distancia_coseno_vectorizer = cosine(array1, array2)\n",
    "distancia_jaccard_vectorizer = float(np.sum(np.minimum(array1, array2)))/float(np.sum(np.maximum(array1, array2)))"
   ]
  },
  {
   "cell_type": "code",
   "execution_count": 85,
   "metadata": {},
   "outputs": [
    {
     "name": "stdout",
     "output_type": "stream",
     "text": [
      "distancia_euclidea_vectorizer=8.717797887081348\n",
      "distancia_coseno_vectorizer=0.9213786372458561\n",
      "distancia_jaccard_vectorizer=0.03225806451612903\n"
     ]
    }
   ],
   "source": [
    "# Visualización\n",
    "print(f'{distancia_euclidea_vectorizer=}')\n",
    "print(f'{distancia_coseno_vectorizer=}')\n",
    "print(f'{distancia_jaccard_vectorizer=}')"
   ]
  },
  {
   "cell_type": "code",
   "execution_count": 87,
   "metadata": {},
   "outputs": [],
   "source": [
    "# Para la segunda técnica\n",
    "distancia_euclidea_tfidf = euclidean(a1, a2)\n",
    "distancia_coseno_tfidf = cosine(a1, a2)\n",
    "distancia_jaccard_tfidf = float(np.sum(np.minimum(a1, a2)))/float(np.sum(np.maximum(a1, a2)))"
   ]
  },
  {
   "cell_type": "code",
   "execution_count": 88,
   "metadata": {},
   "outputs": [
    {
     "name": "stdout",
     "output_type": "stream",
     "text": [
      "distancia_euclidea_tfidf=1.3840438909298272\n",
      "distancia_coseno_tfidf=0.9577887460100877\n",
      "distancia_jaccard_tfidf=0.01939434175590017\n"
     ]
    }
   ],
   "source": [
    "# Visualización\n",
    "# Visualización\n",
    "print(f'{distancia_euclidea_tfidf=}')\n",
    "print(f'{distancia_coseno_tfidf=}')\n",
    "print(f'{distancia_jaccard_tfidf=}')"
   ]
  },
  {
   "cell_type": "markdown",
   "metadata": {},
   "source": [
    "**Función final**\n",
    "\n",
    "Implementaremos la técnica TF-IDF por generar vectores que al aplicar las funciones de distancia, los resultados son más precisos. Además, utilizaremos la distancia coseno."
   ]
  },
  {
   "cell_type": "code",
   "execution_count": 97,
   "metadata": {},
   "outputs": [],
   "source": [
    "def texts_distance(text1:str, text2:str):\n",
    "    # Conversión de los textos a vectores\n",
    "    vectorizador = TfidfVectorizer() # Creamos una instancia del vectorizador\n",
    "    vector1, vector2 = vectorizador.fit_transform([text1, text2])\n",
    "\n",
    "    # Conversión de los vectores a matrices Numpy (necesario para la implementación de la función que calcula la distancia)\n",
    "    array1 = vector1.toarray().ravel()\n",
    "    array2 = vector2.toarray().ravel()\n",
    "\n",
    "    # Cálculo de la distancia\n",
    "    distancia_coseno = cosine(array1, array2)\n",
    "\n",
    "    return 'La distancia entre los dos textos indicados es: ', distancia_coseno"
   ]
  },
  {
   "cell_type": "code",
   "execution_count": 99,
   "metadata": {},
   "outputs": [
    {
     "name": "stdout",
     "output_type": "stream",
     "text": [
      "('La distancia entre los dos textos indicados es: ', 0.9577887460100877)\n",
      "('La distancia entre los dos textos indicados es: ', 0.9633175410027456)\n"
     ]
    }
   ],
   "source": [
    "# Prueba\n",
    "print(texts_distance(text1, text2))\n",
    "print(texts_distance(text1, text3))"
   ]
  }
 ],
 "metadata": {
  "kernelspec": {
   "display_name": "Python 3",
   "language": "python",
   "name": "python3"
  },
  "language_info": {
   "codemirror_mode": {
    "name": "ipython",
    "version": 3
   },
   "file_extension": ".py",
   "mimetype": "text/x-python",
   "name": "python",
   "nbconvert_exporter": "python",
   "pygments_lexer": "ipython3",
   "version": "3.12.3"
  }
 },
 "nbformat": 4,
 "nbformat_minor": 2
}
